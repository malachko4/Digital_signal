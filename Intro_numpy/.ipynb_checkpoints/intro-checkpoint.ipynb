{
 "cells": [
  {
   "cell_type": "code",
   "execution_count": 1,
   "id": "minor-links",
   "metadata": {},
   "outputs": [],
   "source": [
    "import numpy as np"
   ]
  },
  {
   "cell_type": "markdown",
   "id": "beautiful-banner",
   "metadata": {},
   "source": [
    "# Завдання\n",
    "# 1. Створити двомірний нульовий масив розміром 11х11 та заповнити його діагоналі одиницями.\n",
    "# 1.1. Задати розмір масиву"
   ]
  },
  {
   "cell_type": "code",
   "execution_count": 2,
   "id": "breathing-accountability",
   "metadata": {},
   "outputs": [],
   "source": [
    "size = 11"
   ]
  },
  {
   "cell_type": "markdown",
   "id": "asian-macedonia",
   "metadata": {},
   "source": [
    "# 1.2. Створити нульовий масив заданого розміру"
   ]
  },
  {
   "cell_type": "code",
   "execution_count": 3,
   "id": "subject-angel",
   "metadata": {},
   "outputs": [],
   "source": [
    "arr = np.zeros([size, size])"
   ]
  },
  {
   "cell_type": "markdown",
   "id": "stainless-satin",
   "metadata": {},
   "source": [
    "# 1.3 Надрукувати створений масив"
   ]
  },
  {
   "cell_type": "code",
   "execution_count": 4,
   "id": "diverse-booth",
   "metadata": {},
   "outputs": [
    {
     "name": "stdout",
     "output_type": "stream",
     "text": [
      "[[0. 0. 0. 0. 0. 0. 0. 0. 0. 0. 0.]\n",
      " [0. 0. 0. 0. 0. 0. 0. 0. 0. 0. 0.]\n",
      " [0. 0. 0. 0. 0. 0. 0. 0. 0. 0. 0.]\n",
      " [0. 0. 0. 0. 0. 0. 0. 0. 0. 0. 0.]\n",
      " [0. 0. 0. 0. 0. 0. 0. 0. 0. 0. 0.]\n",
      " [0. 0. 0. 0. 0. 0. 0. 0. 0. 0. 0.]\n",
      " [0. 0. 0. 0. 0. 0. 0. 0. 0. 0. 0.]\n",
      " [0. 0. 0. 0. 0. 0. 0. 0. 0. 0. 0.]\n",
      " [0. 0. 0. 0. 0. 0. 0. 0. 0. 0. 0.]\n",
      " [0. 0. 0. 0. 0. 0. 0. 0. 0. 0. 0.]\n",
      " [0. 0. 0. 0. 0. 0. 0. 0. 0. 0. 0.]]\n"
     ]
    }
   ],
   "source": [
    "print(arr)"
   ]
  },
  {
   "cell_type": "markdown",
   "id": "funded-kazakhstan",
   "metadata": {},
   "source": [
    "# 1.4 Змінити діагоналі за допомогою двох циклів"
   ]
  },
  {
   "cell_type": "code",
   "execution_count": 5,
   "id": "decent-hopkins",
   "metadata": {},
   "outputs": [],
   "source": [
    "for i in range(size):\n",
    "\tfor j in range(size):\n",
    "\t\tif (i==j):\n",
    "\t\t\tarr[i][j] = 1\n",
    "\t\telif (j==size-i-1):\n",
    "\t\t\tarr[j][i] = 1"
   ]
  },
  {
   "cell_type": "markdown",
   "id": "progressive-retailer",
   "metadata": {},
   "source": [
    "# 1.5 Вивести створений масив"
   ]
  },
  {
   "cell_type": "code",
   "execution_count": 6,
   "id": "about-simpson",
   "metadata": {},
   "outputs": [
    {
     "name": "stdout",
     "output_type": "stream",
     "text": [
      "[[1. 0. 0. 0. 0. 0. 0. 0. 0. 0. 1.]\n",
      " [0. 1. 0. 0. 0. 0. 0. 0. 0. 1. 0.]\n",
      " [0. 0. 1. 0. 0. 0. 0. 0. 1. 0. 0.]\n",
      " [0. 0. 0. 1. 0. 0. 0. 1. 0. 0. 0.]\n",
      " [0. 0. 0. 0. 1. 0. 1. 0. 0. 0. 0.]\n",
      " [0. 0. 0. 0. 0. 1. 0. 0. 0. 0. 0.]\n",
      " [0. 0. 0. 0. 1. 0. 1. 0. 0. 0. 0.]\n",
      " [0. 0. 0. 1. 0. 0. 0. 1. 0. 0. 0.]\n",
      " [0. 0. 1. 0. 0. 0. 0. 0. 1. 0. 0.]\n",
      " [0. 1. 0. 0. 0. 0. 0. 0. 0. 1. 0.]\n",
      " [1. 0. 0. 0. 0. 0. 0. 0. 0. 0. 1.]]\n"
     ]
    }
   ],
   "source": [
    "print(arr)"
   ]
  },
  {
   "attachments": {
    "image.png": {
     "image/png": "[encoded data removed]"
    }
   },
   "cell_type": "markdown",
   "id": "aboriginal-county",
   "metadata": {},
   "source": [
    "# 2. Засобами NumPy створити вертикальні та горизонтальні зображення градієнту в обидва боки (поступове збільшення яскравості на зображенні).\n",
    "Приклад зображення градієнту ![image.png](attachment:image.png)"
   ]
  },
  {
   "cell_type": "markdown",
   "id": "devoted-tennessee",
   "metadata": {},
   "source": [
    "# Горизонтальний градієнт\n",
    "# 2.1 Створити нульовий масив розміром 255х255"
   ]
  },
  {
   "cell_type": "code",
   "execution_count": 7,
   "id": "elder-pound",
   "metadata": {},
   "outputs": [],
   "source": [
    "import cv2\n",
    "import numpy as np"
   ]
  },
  {
   "cell_type": "code",
   "execution_count": 8,
   "id": "posted-bishop",
   "metadata": {},
   "outputs": [],
   "source": [
    "size = 255\n",
    "horizontal_gradient1 = np.zeros([size, size])"
   ]
  },
  {
   "cell_type": "markdown",
   "id": "rolled-uncertainty",
   "metadata": {},
   "source": [
    "# 2.2 Визначити розміри масиву"
   ]
  },
  {
   "cell_type": "code",
   "execution_count": 9,
   "id": "rolled-weekly",
   "metadata": {},
   "outputs": [],
   "source": [
    "w = horizontal_gradient1.shape[1]\n",
    "h = horizontal_gradient1.shape[0]"
   ]
  },
  {
   "cell_type": "markdown",
   "id": "arranged-district",
   "metadata": {},
   "source": [
    "# 2.3 Поелементно змінити яскравості кожного пікселя"
   ]
  },
  {
   "cell_type": "code",
   "execution_count": 10,
   "id": "appointed-height",
   "metadata": {},
   "outputs": [],
   "source": [
    "for i in range(size):\n",
    "    for j in range(size):\n",
    "        horizontal_gradient1[j][i] = i"
   ]
  },
  {
   "cell_type": "markdown",
   "id": "right-strip",
   "metadata": {},
   "source": [
    "# 2.4 Записати зображення засабами OpenCV"
   ]
  },
  {
   "cell_type": "code",
   "execution_count": 11,
   "id": "unavailable-marathon",
   "metadata": {},
   "outputs": [
    {
     "data": {
      "text/plain": [
       "True"
      ]
     },
     "execution_count": 11,
     "metadata": {},
     "output_type": "execute_result"
    }
   ],
   "source": [
    "cv2.imwrite('pr.jpg', horizontal_gradient1)"
   ]
  },
  {
   "cell_type": "markdown",
   "id": "informational-pregnancy",
   "metadata": {},
   "source": [
    "# 2.5 Аналогічно створити горизонтальний градієнт в інший бік"
   ]
  },
  {
   "cell_type": "code",
   "execution_count": 12,
   "id": "positive-birthday",
   "metadata": {},
   "outputs": [
    {
     "data": {
      "text/plain": [
       "True"
      ]
     },
     "execution_count": 12,
     "metadata": {},
     "output_type": "execute_result"
    }
   ],
   "source": [
    "size = 255\n",
    "horizontal_gradient2 = np.zeros([size, size])\n",
    "\n",
    "w = horizontal_gradient2.shape[1]\n",
    "h = horizontal_gradient2.shape[0]\n",
    "for i in range(size):\n",
    "    for j in range(size):\n",
    "        horizontal_gradient2[size-1-j][size-1-i] = i\n",
    "        \n",
    "cv2.imwrite('pr1.jpg', horizontal_gradient2)"
   ]
  },
  {
   "cell_type": "markdown",
   "id": "destroyed-police",
   "metadata": {},
   "source": [
    "# Вертикальний градієнт\n",
    " # 2.6 Створити нульовий масив розміром 255х255"
   ]
  },
  {
   "cell_type": "code",
   "execution_count": 13,
   "id": "periodic-limit",
   "metadata": {},
   "outputs": [],
   "source": [
    "vertical_gradient1 = np.zeros([size, size])"
   ]
  },
  {
   "cell_type": "markdown",
   "id": "moved-intermediate",
   "metadata": {},
   "source": [
    "# 2.7 Визначити розміри масиву"
   ]
  },
  {
   "cell_type": "code",
   "execution_count": 14,
   "id": "composite-prediction",
   "metadata": {},
   "outputs": [],
   "source": [
    "w = vertical_gradient1.shape[1]\n",
    "h = vertical_gradient1.shape[0]"
   ]
  },
  {
   "cell_type": "markdown",
   "id": "renewable-charge",
   "metadata": {},
   "source": [
    "# 2.8 Поелементно змінити яскравості кожного пікселя"
   ]
  },
  {
   "cell_type": "code",
   "execution_count": 15,
   "id": "parental-novelty",
   "metadata": {},
   "outputs": [],
   "source": [
    "for i in range(h):\n",
    "    for j in range(w):\n",
    "        vertical_gradient1[i][j] = i"
   ]
  },
  {
   "cell_type": "markdown",
   "id": "numeric-somerset",
   "metadata": {},
   "source": [
    "# 2.9 Записати зображення засабами OpenCV"
   ]
  },
  {
   "cell_type": "code",
   "execution_count": 16,
   "id": "explicit-exposure",
   "metadata": {
    "scrolled": false
   },
   "outputs": [
    {
     "data": {
      "text/plain": [
       "True"
      ]
     },
     "execution_count": 16,
     "metadata": {},
     "output_type": "execute_result"
    }
   ],
   "source": [
    "cv2.imwrite('pr2.jpg', vertical_gradient1)"
   ]
  },
  {
   "cell_type": "markdown",
   "id": "essential-gambling",
   "metadata": {},
   "source": [
    "# 2.10 Аналогічно створити горизонтальний градієнт в інший бік"
   ]
  },
  {
   "cell_type": "code",
   "execution_count": 17,
   "id": "molecular-investor",
   "metadata": {
    "scrolled": false
   },
   "outputs": [
    {
     "data": {
      "text/plain": [
       "True"
      ]
     },
     "execution_count": 17,
     "metadata": {},
     "output_type": "execute_result"
    }
   ],
   "source": [
    "vertical_gradient2 = np.zeros([size, size])\n",
    "\n",
    "w = vertical_gradient2.shape[1]\n",
    "h = vertical_gradient2.shape[0]\n",
    "\n",
    "for i in range(size):\n",
    "    for j in range(size):\n",
    "        vertical_gradient2[size-1-i][size-1-j] = i\n",
    "        \n",
    "cv2.imwrite('pr3.jpg', vertical_gradient2)"
   ]
  }
 ],
 "metadata": {
  "kernelspec": {
   "display_name": "Python 3",
   "language": "python",
   "name": "python3"
  },
  "language_info": {
   "codemirror_mode": {
    "name": "ipython",
    "version": 3
   },
   "file_extension": ".py",
   "mimetype": "text/x-python",
   "name": "python",
   "nbconvert_exporter": "python",
   "pygments_lexer": "ipython3",
   "version": "3.6.12"
  }
 },
 "nbformat": 4,
 "nbformat_minor": 5
}
